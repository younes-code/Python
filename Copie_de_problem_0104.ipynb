{
 "cells": [
  {
   "cell_type": "markdown",
   "metadata": {
    "id": "lKeJceZa97nd"
   },
   "source": [
    "## Quiz #0104 "
   ]
  },
  {
   "cell_type": "markdown",
   "metadata": {
    "id": "bXzkjtsv97oA"
   },
   "source": [
    "#### Code the class 'Aquarium' that outputs the result as shown. "
   ]
  },
  {
   "cell_type": "code",
   "execution_count": null,
   "metadata": {
    "id": "SfHpEo8W97oC"
   },
   "outputs": [],
   "source": [
    "class Aquarium:\n",
    "    def __init__(self,animals=[]):\n",
    "        print(\"An Aquarium has opened!\")\n",
    "        self.animals=animals\n",
    "\n",
    "    def enters(self,member):\n",
    "        exist=False\n",
    "        for x in self.animals:\n",
    "            if (x==member):\n",
    "                exist=True\n",
    "                print(\"We already have {}\".format(member))\n",
    "        if (exist==False):  \n",
    "            self.animals.append(member)\n",
    "            print(\"{} is the new member in our aquarim\".format(member))\n",
    "\n",
    "    def show_all(self):\n",
    "        print(self.animals)\n",
    "\n",
    "    def leaves(self,member):\n",
    "        exist=False\n",
    "        for x in self.animals:\n",
    "            if (x==member):\n",
    "                self.animals.remove(member)\n",
    "                print(\"{} left the Aquarim !\".format(member))\n",
    "                exist=True\n",
    "                \n",
    "        if exist==False:\n",
    "            print(\"No such sea creature in the Aquarium!\")"
   ]
  },
  {
   "cell_type": "markdown",
   "metadata": {
    "id": "ogvClV1C97oE"
   },
   "source": [
    "Test results:"
   ]
  },
  {
   "cell_type": "code",
   "execution_count": null,
   "metadata": {
    "colab": {
     "base_uri": "https://localhost:8080/"
    },
    "id": "bVIKC1ZG97oF",
    "outputId": "c6197b0d-8f75-4c13-ee8e-f3eef8060501"
   },
   "outputs": [
    {
     "name": "stdout",
     "output_type": "stream",
     "text": [
      "An Aquarium has opened!\n"
     ]
    }
   ],
   "source": [
    "my_aquarium = Aquarium()"
   ]
  },
  {
   "cell_type": "code",
   "execution_count": null,
   "metadata": {
    "colab": {
     "base_uri": "https://localhost:8080/"
    },
    "id": "PVaV-DZV97oJ",
    "outputId": "e234490b-1a85-403d-d500-8feb164cd8e1"
   },
   "outputs": [
    {
     "name": "stdout",
     "output_type": "stream",
     "text": [
      "Turtle is the new member in our aquarim\n"
     ]
    }
   ],
   "source": [
    "my_aquarium.enters('Turtle')"
   ]
  },
  {
   "cell_type": "code",
   "execution_count": null,
   "metadata": {
    "colab": {
     "base_uri": "https://localhost:8080/"
    },
    "id": "9j0GvjB097oK",
    "outputId": "e185b7cb-ddb1-4914-acca-033c1aa9e8cb"
   },
   "outputs": [
    {
     "name": "stdout",
     "output_type": "stream",
     "text": [
      "We already haveTurtle\n"
     ]
    }
   ],
   "source": [
    "my_aquarium.enters('Turtle')"
   ]
  },
  {
   "cell_type": "code",
   "execution_count": null,
   "metadata": {
    "colab": {
     "base_uri": "https://localhost:8080/"
    },
    "id": "dENMMeHZ97oQ",
    "outputId": "affc3b1f-b93d-4c7a-d74c-33bf084cb121"
   },
   "outputs": [
    {
     "name": "stdout",
     "output_type": "stream",
     "text": [
      "Dolphin is the new member in our aquarim\n"
     ]
    }
   ],
   "source": [
    "my_aquarium.enters('Dolphin')"
   ]
  },
  {
   "cell_type": "code",
   "execution_count": null,
   "metadata": {
    "colab": {
     "base_uri": "https://localhost:8080/"
    },
    "id": "CjaUpR-a97oS",
    "outputId": "44b9feae-4b20-45fd-f8e6-3e7b212bf83e"
   },
   "outputs": [
    {
     "name": "stdout",
     "output_type": "stream",
     "text": [
      "Sea Lion is the new member in our aquarim\n"
     ]
    }
   ],
   "source": [
    "my_aquarium.enters('Sea Lion')"
   ]
  },
  {
   "cell_type": "code",
   "execution_count": null,
   "metadata": {
    "colab": {
     "base_uri": "https://localhost:8080/"
    },
    "id": "sP5AnPrW97oS",
    "outputId": "94abaae6-0bbd-4604-c152-d37738acee8c"
   },
   "outputs": [
    {
     "name": "stdout",
     "output_type": "stream",
     "text": [
      "Shark is the new member in our aquarim\n"
     ]
    }
   ],
   "source": [
    "my_aquarium.enters('Shark')"
   ]
  },
  {
   "cell_type": "code",
   "execution_count": null,
   "metadata": {
    "colab": {
     "base_uri": "https://localhost:8080/"
    },
    "id": "4QEjCyEX97oT",
    "outputId": "2b8b6f77-ef92-430c-f629-620c57954cc0"
   },
   "outputs": [
    {
     "name": "stdout",
     "output_type": "stream",
     "text": [
      "['Turtle', 'Dolphin', 'Sea Lion', 'Shark']\n"
     ]
    }
   ],
   "source": [
    "my_aquarium.show_all()"
   ]
  },
  {
   "cell_type": "code",
   "execution_count": null,
   "metadata": {
    "colab": {
     "base_uri": "https://localhost:8080/"
    },
    "id": "wXFul53297oU",
    "outputId": "0bdcca7e-72cc-4ea2-f408-efa90f12814b"
   },
   "outputs": [
    {
     "name": "stdout",
     "output_type": "stream",
     "text": [
      "Sea Lion left the Aquarim !\n"
     ]
    }
   ],
   "source": [
    "my_aquarium.leaves(\"Sea Lion\")"
   ]
  },
  {
   "cell_type": "code",
   "execution_count": null,
   "metadata": {
    "colab": {
     "base_uri": "https://localhost:8080/"
    },
    "id": "uuOzk_br97oV",
    "outputId": "c9dad27e-839b-490e-93a6-1e38a64d2a8c"
   },
   "outputs": [
    {
     "name": "stdout",
     "output_type": "stream",
     "text": [
      "No such sea creature in the Aquarium!\n"
     ]
    }
   ],
   "source": [
    "my_aquarium.leaves(\"Killer Whale\")"
   ]
  },
  {
   "cell_type": "code",
   "execution_count": null,
   "metadata": {
    "colab": {
     "base_uri": "https://localhost:8080/"
    },
    "id": "f7EvBv3T97oW",
    "outputId": "0aa0d75f-5d3c-4ac4-e0d8-8c6ccfbcc797"
   },
   "outputs": [
    {
     "name": "stdout",
     "output_type": "stream",
     "text": [
      "['Turtle', 'Dolphin', 'Shark']\n"
     ]
    }
   ],
   "source": [
    "my_aquarium.show_all()"
   ]
  },
  {
   "cell_type": "code",
   "execution_count": null,
   "metadata": {
    "colab": {
     "base_uri": "https://localhost:8080/"
    },
    "id": "AjiTywoR97oX",
    "outputId": "56841353-7303-4f45-b115-8255d5e3b3a3"
   },
   "outputs": [
    {
     "name": "stdout",
     "output_type": "stream",
     "text": [
      "Turtle left the Aquarim !\n"
     ]
    }
   ],
   "source": [
    "my_aquarium.leaves(\"Turtle\")"
   ]
  },
  {
   "cell_type": "code",
   "execution_count": null,
   "metadata": {
    "colab": {
     "base_uri": "https://localhost:8080/"
    },
    "id": "dTdUnS6s97oY",
    "outputId": "83072e44-77dd-4100-f08e-19c79f91fa6f"
   },
   "outputs": [
    {
     "name": "stdout",
     "output_type": "stream",
     "text": [
      "['Dolphin', 'Shark']\n"
     ]
    }
   ],
   "source": [
    "my_aquarium.show_all()"
   ]
  },
  {
   "cell_type": "code",
   "execution_count": null,
   "metadata": {
    "id": "5gHz7qj9XNu5"
   },
   "outputs": [],
   "source": []
  }
 ],
 "metadata": {
  "colab": {
   "name": "Copie de problem_0104.ipynb",
   "provenance": []
  },
  "kernelspec": {
   "display_name": "Python 3",
   "language": "python",
   "name": "python3"
  },
  "language_info": {
   "codemirror_mode": {
    "name": "ipython",
    "version": 3
   },
   "file_extension": ".py",
   "mimetype": "text/x-python",
   "name": "python",
   "nbconvert_exporter": "python",
   "pygments_lexer": "ipython3",
   "version": "3.8.8"
  },
  "toc": {
   "base_numbering": 1,
   "nav_menu": {},
   "number_sections": true,
   "sideBar": true,
   "skip_h1_title": false,
   "title_cell": "Table of Contents",
   "title_sidebar": "Contents",
   "toc_cell": false,
   "toc_position": {},
   "toc_section_display": true,
   "toc_window_display": false
  },
  "varInspector": {
   "cols": {
    "lenName": 16,
    "lenType": 16,
    "lenVar": 40
   },
   "kernels_config": {
    "python": {
     "delete_cmd_postfix": "",
     "delete_cmd_prefix": "del ",
     "library": "var_list.py",
     "varRefreshCmd": "print(var_dic_list())"
    },
    "r": {
     "delete_cmd_postfix": ") ",
     "delete_cmd_prefix": "rm(",
     "library": "var_list.r",
     "varRefreshCmd": "cat(var_dic_list()) "
    }
   },
   "types_to_exclude": [
    "module",
    "function",
    "builtin_function_or_method",
    "instance",
    "_Feature"
   ],
   "window_display": false
  }
 },
 "nbformat": 4,
 "nbformat_minor": 1
}
