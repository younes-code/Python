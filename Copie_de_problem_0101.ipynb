{
 "cells": [
  {
   "cell_type": "markdown",
   "metadata": {
    "id": "1zdDCv79fH05"
   },
   "source": [
    "## Quiz #0101"
   ]
  },
  {
   "cell_type": "markdown",
   "metadata": {
    "id": "fA3CiukPfH1A"
   },
   "source": [
    "#### Provide the answers in Python code:"
   ]
  },
  {
   "cell_type": "markdown",
   "metadata": {
    "id": "nV5K_YVTfH1C"
   },
   "source": [
    "1).  In the class A, students' heights are:\n",
    "\n",
    "161.5 <br>\n",
    "165.9 <br>\n",
    "168.7 <br>\n",
    "163.1 <br>\n",
    "170.8 <br>\n",
    "167.2 <br>\n",
    "\n",
    "Calculate the mean height by using Python 'list' and 'for' loop:"
   ]
  },
  {
   "cell_type": "code",
   "execution_count": 25,
   "metadata": {
    "colab": {
     "base_uri": "https://localhost:8080/"
    },
    "id": "lwOGBiIYfH1E",
    "outputId": "e20d806d-f3f9-45e1-ccac-3d0e491c2be6"
   },
   "outputs": [
    {
     "name": "stdout",
     "output_type": "stream",
     "text": [
      "the mean height of calss A is:  166.20000000000002\n"
     ]
    }
   ],
   "source": [
    "class_A=[161.5,165.9,168.7,163.1,170.8,167.2]\n",
    "s=0\n",
    "count=0\n",
    "for x in class_A :\n",
    "    s+=x\n",
    "    count+=1\n",
    "mean =s/count\n",
    "print(\"the mean height of calss A is: \" ,mean)"
   ]
  },
  {
   "cell_type": "markdown",
   "metadata": {
    "id": "Y4XU80lHfH1F"
   },
   "source": [
    "2).  In the class B, students' heights are:\n",
    "\n",
    "172.5 <br>\n",
    "162.9 <br>\n",
    "161.7 <br>\n",
    "160.1 <br>\n",
    "161.8 <br>\n",
    "169.2 <br>\n",
    "\n",
    "Calculate the mean height by using Python 'list' and 'for' loop:"
   ]
  },
  {
   "cell_type": "code",
   "execution_count": 15,
   "metadata": {
    "colab": {
     "base_uri": "https://localhost:8080/"
    },
    "id": "wlW2j4mTfH1H",
    "outputId": "98a8402f-aa05-4c22-dc9d-80ff7f9d4ec6"
   },
   "outputs": [
    {
     "name": "stdout",
     "output_type": "stream",
     "text": [
      "the mean height of calss B is:  164.70000000000002\n"
     ]
    }
   ],
   "source": [
    "class_B=[172.5,162.9,161.7,160.1,161.8,169.2]\n",
    "s=0\n",
    "count=0\n",
    "for x in class_B :\n",
    "    s+=x\n",
    "    count+=1\n",
    "mean =s/count\n",
    "print(\"the mean height of calss B is: \" ,mean)"
   ]
  },
  {
   "cell_type": "markdown",
   "metadata": {
    "id": "tBq3PIqCfH1H"
   },
   "source": [
    "3). The class A and the class B are joined together to form the class AB. Calculate the mean height by using Python 'list' and 'for' loop:"
   ]
  },
  {
   "cell_type": "code",
   "execution_count": 18,
   "metadata": {
    "colab": {
     "base_uri": "https://localhost:8080/"
    },
    "id": "_MoNZEYefH1J",
    "outputId": "24d37b52-f4a9-40aa-ad17-c63a9ca4bcaa"
   },
   "outputs": [
    {
     "name": "stdout",
     "output_type": "stream",
     "text": [
      "the new list AB containes :[161.5, 165.9, 168.7, 163.1, 170.8, 167.2, 172.5, 162.9, 161.7, 160.1, 161.8, 169.2] \n",
      "and the mean is 165.45000000000002\n"
     ]
    }
   ],
   "source": [
    "class_AB=class_A+class_B\n",
    "s=0\n",
    "count=0\n",
    "for x in class_AB :\n",
    "    s+=x\n",
    "    count+=1\n",
    "mean =s/count\n",
    "print(\"the new list AB containes :{} \\nand the mean is {}\".format(class_AB,mean))\n",
    "#print(\"the mean is: \" ,mean)"
   ]
  },
  {
   "cell_type": "markdown",
   "metadata": {
    "id": "HwKQfZX8fH1L"
   },
   "source": [
    "4). Sort the heights of the class AB."
   ]
  },
  {
   "cell_type": "code",
   "execution_count": 20,
   "metadata": {
    "colab": {
     "base_uri": "https://localhost:8080/"
    },
    "id": "hohrB2xhfH1N",
    "outputId": "7236a462-c6fa-4424-c419-7eee453775ee"
   },
   "outputs": [
    {
     "name": "stdout",
     "output_type": "stream",
     "text": [
      "the sorted list goes lik this: \n",
      " [160.1, 161.5, 161.7, 161.8, 162.9, 163.1, 165.9, 167.2, 168.7, 169.2, 170.8, 172.5]\n"
     ]
    }
   ],
   "source": [
    "class_AB.sort()\n",
    "print(\"the sorted list goes lik this: \\n\",class_AB)"
   ]
  },
  {
   "cell_type": "markdown",
   "metadata": {
    "id": "nK2A8DGIfH1O"
   },
   "source": [
    "5). The class C is formed with students with the height less than 165. Make a list 'C' containing the heights of the class C."
   ]
  },
  {
   "cell_type": "code",
   "execution_count": 23,
   "metadata": {
    "colab": {
     "base_uri": "https://localhost:8080/"
    },
    "id": "P_VTZlu_fH1P",
    "outputId": "c6ce638b-d60c-46e0-a0fd-121e3f598c3a"
   },
   "outputs": [
    {
     "name": "stdout",
     "output_type": "stream",
     "text": [
      "the  heights of the class C are: [160.1, 161.5, 161.7, 161.8, 162.9, 163.1]\n"
     ]
    }
   ],
   "source": [
    "class_C =[]\n",
    "for x in class_AB :\n",
    "    if x < 165 :\n",
    "        class_C.append(x)\n",
    "print(\"the  heights of the class C are:\",class_C)"
   ]
  },
  {
   "cell_type": "markdown",
   "metadata": {
    "id": "lGpeRTiSfH1R"
   },
   "source": [
    "6). The class D is formed with students with the height larger than 160 and less than 170. Make a list containing the heights of the class D."
   ]
  },
  {
   "cell_type": "code",
   "execution_count": 24,
   "metadata": {
    "colab": {
     "base_uri": "https://localhost:8080/"
    },
    "id": "4lwDYkTefH1R",
    "outputId": "6fda07c6-813a-4ace-f0ec-6fd17be6367b"
   },
   "outputs": [
    {
     "name": "stdout",
     "output_type": "stream",
     "text": [
      "the heights of the class D are: [160.1, 161.5, 161.7, 161.8, 162.9, 163.1, 165.9, 167.2, 168.7, 169.2]\n"
     ]
    }
   ],
   "source": [
    "class_D =[]\n",
    "for x in class_AB :\n",
    "    if x > 160 and x <170 :\n",
    "        class_D.append(x)\n",
    "print(\"the heights of the class D are:\",class_D)"
   ]
  },
  {
   "cell_type": "code",
   "execution_count": null,
   "metadata": {},
   "outputs": [],
   "source": []
  }
 ],
 "metadata": {
  "colab": {
   "collapsed_sections": [],
   "name": "Copie de problem_0101.ipynb",
   "provenance": []
  },
  "kernelspec": {
   "display_name": "Python 3",
   "language": "python",
   "name": "python3"
  },
  "language_info": {
   "codemirror_mode": {
    "name": "ipython",
    "version": 3
   },
   "file_extension": ".py",
   "mimetype": "text/x-python",
   "name": "python",
   "nbconvert_exporter": "python",
   "pygments_lexer": "ipython3",
   "version": "3.8.8"
  },
  "toc": {
   "base_numbering": 1,
   "nav_menu": {},
   "number_sections": true,
   "sideBar": true,
   "skip_h1_title": false,
   "title_cell": "Table of Contents",
   "title_sidebar": "Contents",
   "toc_cell": false,
   "toc_position": {},
   "toc_section_display": true,
   "toc_window_display": false
  },
  "varInspector": {
   "cols": {
    "lenName": 16,
    "lenType": 16,
    "lenVar": 40
   },
   "kernels_config": {
    "python": {
     "delete_cmd_postfix": "",
     "delete_cmd_prefix": "del ",
     "library": "var_list.py",
     "varRefreshCmd": "print(var_dic_list())"
    },
    "r": {
     "delete_cmd_postfix": ") ",
     "delete_cmd_prefix": "rm(",
     "library": "var_list.r",
     "varRefreshCmd": "cat(var_dic_list()) "
    }
   },
   "types_to_exclude": [
    "module",
    "function",
    "builtin_function_or_method",
    "instance",
    "_Feature"
   ],
   "window_display": false
  }
 },
 "nbformat": 4,
 "nbformat_minor": 1
}
