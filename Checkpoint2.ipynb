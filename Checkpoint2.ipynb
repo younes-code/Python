{
 "cells": [
  {
   "cell_type": "markdown",
   "id": "de2a12dc",
   "metadata": {},
   "source": [
    "# Question 1:\n",
    "Write a program that will find all numbers which are divisible by 7 but are not a multiple of 5, between 2000 and 3200 (both included). The numbers obtained should be printed in a list."
   ]
  },
  {
   "cell_type": "code",
   "execution_count": 120,
   "id": "23b66844",
   "metadata": {},
   "outputs": [
    {
     "name": "stdout",
     "output_type": "stream",
     "text": [
      "[2002, 2009, 2016, 2023, 2037, 2044, 2051, 2058, 2072, 2079, 2086, 2093, 2107, 2114, 2121, 2128, 2142, 2149, 2156, 2163, 2177, 2184, 2191, 2198, 2212, 2219, 2226, 2233, 2247, 2254, 2261, 2268, 2282, 2289, 2296, 2303, 2317, 2324, 2331, 2338, 2352, 2359, 2366, 2373, 2387, 2394, 2401, 2408, 2422, 2429, 2436, 2443, 2457, 2464, 2471, 2478, 2492, 2499, 2506, 2513, 2527, 2534, 2541, 2548, 2562, 2569, 2576, 2583, 2597, 2604, 2611, 2618, 2632, 2639, 2646, 2653, 2667, 2674, 2681, 2688, 2702, 2709, 2716, 2723, 2737, 2744, 2751, 2758, 2772, 2779, 2786, 2793, 2807, 2814, 2821, 2828, 2842, 2849, 2856, 2863, 2877, 2884, 2891, 2898, 2912, 2919, 2926, 2933, 2947, 2954, 2961, 2968, 2982, 2989, 2996, 3003, 3017, 3024, 3031, 3038, 3052, 3059, 3066, 3073, 3087, 3094, 3101, 3108, 3122, 3129, 3136, 3143, 3157, 3164, 3171, 3178, 3192, 3199]\n"
     ]
    }
   ],
   "source": [
    "list=[]\n",
    "\n",
    "for i in range(2000,3200):\n",
    "    if(i%7==0)and(i%5!=0):\n",
    "        list.append(i)\n",
    "\n",
    "print(list)      "
   ]
  },
  {
   "cell_type": "markdown",
   "id": "ac061d9f",
   "metadata": {},
   "source": [
    "# Question 2:\n",
    "Write a program that can compute the factorial of a given number. (the factorial of n is the product of all positive integers less than or equal to n)."
   ]
  },
  {
   "cell_type": "code",
   "execution_count": 58,
   "id": "14c21a1d",
   "metadata": {
    "scrolled": true
   },
   "outputs": [
    {
     "name": "stdout",
     "output_type": "stream",
     "text": [
      "inter a number 5\n",
      "120\n"
     ]
    }
   ],
   "source": [
    "n=int(input(\"enter a number please \"))\n",
    "fact=1\n",
    "for i in range(1,n+1):\n",
    "    fact=fact*i\n",
    "print(fact)"
   ]
  },
  {
   "cell_type": "markdown",
   "id": "50869158",
   "metadata": {},
   "source": [
    "# Question 3:"
   ]
  },
  {
   "cell_type": "code",
   "execution_count": 12,
   "id": "09b1631d",
   "metadata": {
    "scrolled": true
   },
   "outputs": [
    {
     "name": "stdout",
     "output_type": "stream",
     "text": [
      "inter an integer8\n",
      "{1: 1, 2: 4, 3: 9, 4: 16, 5: 25, 6: 36, 7: 49, 8: 64}\n"
     ]
    }
   ],
   "source": [
    "n=int(input(\"enter an integer\"))\n",
    "dict={}\n",
    "for i in range(1,n+1):\n",
    "    j=i*i\n",
    "    dict[i]=j\n",
    "    \n",
    "print(dict)"
   ]
  },
  {
   "cell_type": "markdown",
   "id": "883cf666",
   "metadata": {},
   "source": [
    "# Question 4:\n",
    "Given a non-empty string and an int n, return a new string where the char at index n has been removed"
   ]
  },
  {
   "cell_type": "code",
   "execution_count": 68,
   "id": "14be55fe",
   "metadata": {},
   "outputs": [
    {
     "name": "stdout",
     "output_type": "stream",
     "text": [
      "enter a string younes\n",
      "give an integer 5\n",
      "youne\n"
     ]
    }
   ],
   "source": [
    "str=input(\"enter a string \")\n",
    "l=len(str)-1\n",
    "b=False\n",
    "while b == False :\n",
    "    n=int(input(\"give an index \"))\n",
    "    \n",
    "    if n >= 0 and n<=l:\n",
    "        string=str.replace(str[n],\"\")\n",
    "        print(string)\n",
    "        b=True\n",
    "    \n",
    "    else :\n",
    "        print(\"value of n is not valid ! please enter an number between {} and {}\".format(0,l))\n",
    "\n"
   ]
  },
  {
   "cell_type": "markdown",
   "id": "dd7278a9",
   "metadata": {},
   "source": [
    " # Question 5:\n",
    " Write a NumPy program to convert a NumPy array into a Python list structure."
   ]
  },
  {
   "cell_type": "code",
   "execution_count": 81,
   "id": "7735f2d3",
   "metadata": {},
   "outputs": [
    {
     "name": "stdout",
     "output_type": "stream",
     "text": [
      "[[0, 1], [2, 3], [4, 5]]\n"
     ]
    }
   ],
   "source": [
    "import numpy as np\n",
    "\n",
    "array=np.array([[0,1],[2,3],[4,5]])\n",
    "\n",
    "list=array.tolist()\n",
    "print(list)"
   ]
  },
  {
   "cell_type": "markdown",
   "id": "d4a81b6c",
   "metadata": {},
   "source": [
    "# Question 6: \n",
    "Write a NumPy program to compute the covariance matrix of two given arrays. "
   ]
  },
  {
   "cell_type": "code",
   "execution_count": 85,
   "id": "2af1e363",
   "metadata": {},
   "outputs": [
    {
     "name": "stdout",
     "output_type": "stream",
     "text": [
      "[[ 1. -1.]\n",
      " [-1.  1.]]\n"
     ]
    }
   ],
   "source": [
    "import numpy as np\n",
    "array1=np.array([0,1,2])\n",
    "array2=np.array([2,1,0])\n",
    "c=np.cov(array1,array2)\n",
    "print(c)"
   ]
  },
  {
   "cell_type": "markdown",
   "id": "ef010c45",
   "metadata": {},
   "source": [
    " # Question 7:    \n",
    " Write a program that calculates and prints the value according to the given formula: Q = Square root of [(2 * C * D)/H] "
   ]
  },
  {
   "cell_type": "code",
   "execution_count": 115,
   "id": "9446e574",
   "metadata": {},
   "outputs": [
    {
     "name": "stdout",
     "output_type": "stream",
     "text": [
      "enter the values seperated by commas100,150,180\n",
      "[18, 22, 24]\n"
     ]
    }
   ],
   "source": [
    "import math\n",
    "C=50\n",
    "H=30\n",
    "D=input(\"enter the values seperated by commas\").split(',') #putting the values in a list\n",
    "\n",
    "for i in range(0, len(D)): #Converting the string list to an integer list\n",
    "    D[i] = int(D[i])\n",
    "    \n",
    "list=[]\n",
    "for X in D :\n",
    "    Q=math.sqrt((2*C*X)/H)\n",
    "    list.append(round(Q)) #adding the result to al list\n",
    "\n",
    "print(list)"
   ]
  },
  {
   "cell_type": "code",
   "execution_count": null,
   "id": "d309548f",
   "metadata": {},
   "outputs": [],
   "source": []
  }
 ],
 "metadata": {
  "kernelspec": {
   "display_name": "Python 3",
   "language": "python",
   "name": "python3"
  },
  "language_info": {
   "codemirror_mode": {
    "name": "ipython",
    "version": 3
   },
   "file_extension": ".py",
   "mimetype": "text/x-python",
   "name": "python",
   "nbconvert_exporter": "python",
   "pygments_lexer": "ipython3",
   "version": "3.8.8"
  }
 },
 "nbformat": 4,
 "nbformat_minor": 5
}
