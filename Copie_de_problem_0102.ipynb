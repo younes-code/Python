{
 "cells": [
  {
   "cell_type": "markdown",
   "metadata": {
    "id": "8HVAh1JMejiu"
   },
   "source": [
    "## Quiz #0102 "
   ]
  },
  {
   "cell_type": "markdown",
   "metadata": {
    "id": "hi5mFtwEeji0"
   },
   "source": [
    "#### Use a lambda function and map() to answer the following questions."
   ]
  },
  {
   "cell_type": "markdown",
   "metadata": {
    "id": "2KZsnq7deji1"
   },
   "source": [
    "1). Add 1 to each element of the list 'a' and create another list. <br>\n",
    "\n",
    "a = [1, 2, 3, 4, 5, 6, 7, 8, 9, 10]"
   ]
  },
  {
   "cell_type": "code",
   "execution_count": null,
   "metadata": {
    "colab": {
     "base_uri": "https://localhost:8080/"
    },
    "id": "mX4lbAT7eji1",
    "outputId": "ae186619-2c15-4f3c-c432-b7c3b3056399"
   },
   "outputs": [
    {
     "name": "stdout",
     "output_type": "stream",
     "text": [
      "the new list is: [2, 3, 4, 5, 6, 7, 8, 9, 10, 11]\n"
     ]
    }
   ],
   "source": [
    "a = [1, 2, 3, 4, 5, 6, 7, 8, 9, 10]\n",
    "new_list=map(lambda x: x+1,a)\n",
    "print(\"the new list is:\",list(new_list))"
   ]
  },
  {
   "cell_type": "markdown",
   "metadata": {
    "id": "8v9ceOtYeji2"
   },
   "source": [
    "2). Multiply element-wise the lists 'a' and 'b'. Show the result as another list.\n",
    "\n",
    "a = [2, 4, 6, 8, 10]\n",
    "\n",
    "b = [10, 8, 6, 4, 2]"
   ]
  },
  {
   "cell_type": "code",
   "execution_count": null,
   "metadata": {
    "colab": {
     "base_uri": "https://localhost:8080/"
    },
    "id": "gRz72MEbeji3",
    "outputId": "c7cc7608-fc72-4c9c-c1e4-336989b323d3"
   },
   "outputs": [
    {
     "name": "stdout",
     "output_type": "stream",
     "text": [
      "the new list is: [20, 32, 36, 32, 20]\n"
     ]
    }
   ],
   "source": [
    "a = [2, 4, 6, 8, 10]\n",
    "b = [10, 8, 6, 4, 2]\n",
    "c=[]\n",
    "for x,y in zip(a,b):\n",
    "    c.append(x*y)\n",
    "print(\"the new list is:\",c)\n"
   ]
  },
  {
   "cell_type": "markdown",
   "metadata": {
    "id": "YYjOR_dAeji5"
   },
   "source": [
    "#### Use a lambda function and filter() to answer the following questions."
   ]
  },
  {
   "cell_type": "markdown",
   "metadata": {
    "id": "7Nhw_2ABeji5"
   },
   "source": [
    "3). Find the multiples of 5 in the range 1~100. Show the result as a list."
   ]
  },
  {
   "cell_type": "code",
   "execution_count": null,
   "metadata": {
    "colab": {
     "base_uri": "https://localhost:8080/"
    },
    "id": "8_2qRf_4eji5",
    "outputId": "a6922cdc-3fcb-43a9-f50d-94272314f811"
   },
   "outputs": [
    {
     "name": "stdout",
     "output_type": "stream",
     "text": [
      "the multiples of 5 in that range are:\n",
      " [5, 10, 15, 20, 25, 30, 35, 40, 45, 50, 55, 60, 65, 70, 75, 80, 85, 90, 95, 100]\n"
     ]
    }
   ],
   "source": [
    "a = [i for  i in range(1, 101)]\n",
    "multiples = filter(lambda x: x%5==0 , a)\n",
    "print(\"the multiples of 5 in that range are:\\n\",list(multiples))"
   ]
  },
  {
   "cell_type": "markdown",
   "metadata": {
    "id": "Y9IyYpIJeji6"
   },
   "source": [
    "4). In the following list, find the values larger than 160. Show the result as a list.\n",
    "\n",
    "a = [145.2, 160.3, 155.2, 171.6, 165.34, 167.2, 161.1, 164.9]"
   ]
  },
  {
   "cell_type": "code",
   "execution_count": null,
   "metadata": {
    "colab": {
     "base_uri": "https://localhost:8080/"
    },
    "id": "8JwMeBnKeji7",
    "outputId": "21304dfd-067a-430e-b24a-c1136b88879f"
   },
   "outputs": [
    {
     "name": "stdout",
     "output_type": "stream",
     "text": [
      "values that are larger that 160 are:\n",
      " [160.3, 171.6, 165.34, 167.2, 161.1, 164.9]\n"
     ]
    }
   ],
   "source": [
    "a = [145.2, 160.3, 155.2, 171.6, 165.34, 167.2, 161.1, 164.9]\n",
    "new_list = filter(lambda x: x>160 , a)\n",
    "print(\"values that are larger that 160 are:\\n\",list(new_list))"
   ]
  },
  {
   "cell_type": "markdown",
   "metadata": {
    "id": "zYUzSAgSeji8"
   },
   "source": [
    "5). In the following list, find the values larger than 160 and smaller than 165. Show the result as a list.\n",
    "\n",
    "a = [145.2, 160.3, 155.2, 171.6, 165.34, 167.2, 161.1, 164.9]"
   ]
  },
  {
   "cell_type": "code",
   "execution_count": null,
   "metadata": {
    "colab": {
     "base_uri": "https://localhost:8080/"
    },
    "id": "jRmysU8aeji8",
    "outputId": "acd78a4f-c07a-42e5-dbb0-3c4d823f892b"
   },
   "outputs": [
    {
     "name": "stdout",
     "output_type": "stream",
     "text": [
      " values larger than 160 and smaller than 165 are:\n",
      " [160.3, 161.1, 164.9]\n"
     ]
    }
   ],
   "source": [
    "a = [145.2, 160.3, 155.2, 171.6, 165.34, 167.2, 161.1, 164.9]\n",
    "new_list = filter(lambda x: x>160 and x<165 , a)\n",
    "print(\" values larger than 160 and smaller than 165 are:\\n\",list(new_list))"
   ]
  },
  {
   "cell_type": "markdown",
   "metadata": {
    "id": "-euk4LGMeji8"
   },
   "source": [
    "6). In the following list of names, extract only those stargin with 'J'. Show the result as a list.\n",
    "\n",
    "a = ['Sara', 'Jack', 'Rebecca', 'Jennifer', 'Paul', 'Andrew', 'John']"
   ]
  },
  {
   "cell_type": "code",
   "execution_count": null,
   "metadata": {
    "colab": {
     "base_uri": "https://localhost:8080/"
    },
    "id": "nN1Axlzyeji9",
    "outputId": "8e328075-a9b0-4a31-c46b-2544ebe80b2f"
   },
   "outputs": [
    {
     "name": "stdout",
     "output_type": "stream",
     "text": [
      "names that starts with 'J' are:\n",
      " ['Jack', 'Jennifer', 'John']\n"
     ]
    }
   ],
   "source": [
    "a = ['Sara', 'Jack', 'Rebecca', 'Jennifer', 'Paul', 'Andrew', 'John']\n",
    "starting_with_J=filter(lambda x: x[0]==\"J\",a)\n",
    "print(\"names that starts with 'J' are:\\n\",list(starting_with_J))"
   ]
  },
  {
   "cell_type": "code",
   "execution_count": null,
   "metadata": {
    "id": "eX9iT6vgeji9"
   },
   "outputs": [],
   "source": []
  }
 ],
 "metadata": {
  "colab": {
   "name": "Copie de problem_0102.ipynb",
   "provenance": []
  },
  "kernelspec": {
   "display_name": "Python 3",
   "language": "python",
   "name": "python3"
  },
  "language_info": {
   "codemirror_mode": {
    "name": "ipython",
    "version": 3
   },
   "file_extension": ".py",
   "mimetype": "text/x-python",
   "name": "python",
   "nbconvert_exporter": "python",
   "pygments_lexer": "ipython3",
   "version": "3.8.8"
  },
  "toc": {
   "base_numbering": 1,
   "nav_menu": {},
   "number_sections": true,
   "sideBar": true,
   "skip_h1_title": false,
   "title_cell": "Table of Contents",
   "title_sidebar": "Contents",
   "toc_cell": false,
   "toc_position": {},
   "toc_section_display": true,
   "toc_window_display": false
  },
  "varInspector": {
   "cols": {
    "lenName": 16,
    "lenType": 16,
    "lenVar": 40
   },
   "kernels_config": {
    "python": {
     "delete_cmd_postfix": "",
     "delete_cmd_prefix": "del ",
     "library": "var_list.py",
     "varRefreshCmd": "print(var_dic_list())"
    },
    "r": {
     "delete_cmd_postfix": ") ",
     "delete_cmd_prefix": "rm(",
     "library": "var_list.r",
     "varRefreshCmd": "cat(var_dic_list()) "
    }
   },
   "types_to_exclude": [
    "module",
    "function",
    "builtin_function_or_method",
    "instance",
    "_Feature"
   ],
   "window_display": false
  }
 },
 "nbformat": 4,
 "nbformat_minor": 1
}
