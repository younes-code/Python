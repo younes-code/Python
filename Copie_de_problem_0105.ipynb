{
  "nbformat": 4,
  "nbformat_minor": 0,
  "metadata": {
    "kernelspec": {
      "display_name": "Python 3",
      "language": "python",
      "name": "python3"
    },
    "language_info": {
      "codemirror_mode": {
        "name": "ipython",
        "version": 3
      },
      "file_extension": ".py",
      "mimetype": "text/x-python",
      "name": "python",
      "nbconvert_exporter": "python",
      "pygments_lexer": "ipython3",
      "version": "3.7.0"
    },
    "toc": {
      "base_numbering": 1,
      "nav_menu": {},
      "number_sections": true,
      "sideBar": true,
      "skip_h1_title": false,
      "title_cell": "Table of Contents",
      "title_sidebar": "Contents",
      "toc_cell": false,
      "toc_position": {},
      "toc_section_display": true,
      "toc_window_display": false
    },
    "varInspector": {
      "cols": {
        "lenName": 16,
        "lenType": 16,
        "lenVar": 40
      },
      "kernels_config": {
        "python": {
          "delete_cmd_postfix": "",
          "delete_cmd_prefix": "del ",
          "library": "var_list.py",
          "varRefreshCmd": "print(var_dic_list())"
        },
        "r": {
          "delete_cmd_postfix": ") ",
          "delete_cmd_prefix": "rm(",
          "library": "var_list.r",
          "varRefreshCmd": "cat(var_dic_list()) "
        }
      },
      "types_to_exclude": [
        "module",
        "function",
        "builtin_function_or_method",
        "instance",
        "_Feature"
      ],
      "window_display": false
    },
    "colab": {
      "name": "Copie de problem_0105.ipynb",
      "provenance": []
    }
  },
  "cells": [
    {
      "cell_type": "markdown",
      "metadata": {
        "id": "q5qprtbxt1Yb"
      },
      "source": [
        "## Quiz #0105 "
      ]
    },
    {
      "cell_type": "markdown",
      "metadata": {
        "id": "D0WMEgqlt1Yi"
      },
      "source": [
        "#### Assignment: \n",
        "- Write a function named 'palindrome' to test whether the entered word or sentence is a palindrome.<br>\n",
        "- Ignore capitalization, spaces, punctuation marks, symbols, etc. <br>\n",
        "- Use the properties of 'queue' and 'stack' data structures. <br>"
      ]
    },
    {
      "cell_type": "markdown",
      "metadata": {
        "id": "B2Es_x8kt1Yj"
      },
      "source": [
        "Palindrome examples: <br>\n",
        "- mom\n",
        "- wow\n",
        "- noon\n",
        "- level\n",
        "- radar\n",
        "- kayak\n",
        "- racecar\n",
        "- God's dog\n",
        "- Madam, I'm Adam"
      ]
    },
    {
      "cell_type": "code",
      "metadata": {
        "id": "fJANoYZLt1Yk"
      },
      "source": [
        "s = []\n",
        "h = -1\n",
        "\n",
        "def insert(d):\n",
        "    global h\n",
        "    h += 1\n",
        "    s[h] = d\n",
        "\n",
        "def pop():\n",
        "    global h\n",
        "    d = s[h]\n",
        "    h -= 1\n",
        "    return d\n",
        "\n",
        "def palindrome(string):\n",
        "    global s\n",
        "    my_string= string.lower()\n",
        "    length = len(string)\n",
        "    s = ['0'] * (length + 1)   \n",
        "    mid = length // 2\n",
        "    i = 0\n",
        "    while i < mid:\n",
        "        insert(my_string[i])\n",
        "        i += 1  \n",
        "    if length % 2 != 0:\n",
        "        i += 1 \n",
        "    while i < length:\n",
        "        d = pop()       \n",
        "        if d != my_string[i]:\n",
        "            return False\n",
        "        i += 1\n",
        "    s = []\n",
        "    h = -1\n",
        "    return True\n",
        "\n",
        "\n",
        "\n",
        "\n",
        "\n",
        "  \n",
        "\n",
        "\n",
        "\n",
        "\n",
        "\n",
        "    \n",
        "    \n",
        "    \n",
        "    "
      ],
      "execution_count": null,
      "outputs": []
    },
    {
      "cell_type": "markdown",
      "metadata": {
        "id": "T3LVR170t1Yl"
      },
      "source": [
        "Test results:"
      ]
    },
    {
      "cell_type": "code",
      "metadata": {
        "id": "s3j4I-O5t1Ym",
        "colab": {
          "base_uri": "https://localhost:8080/"
        },
        "outputId": "dbe71a98-847e-43d0-c752-e493b56a05ab"
      },
      "source": [
        "palindrome(\"Kayak\")"
      ],
      "execution_count": null,
      "outputs": [
        {
          "output_type": "execute_result",
          "data": {
            "text/plain": [
              "True"
            ]
          },
          "metadata": {
            "tags": []
          },
          "execution_count": 78
        }
      ]
    },
    {
      "cell_type": "code",
      "metadata": {
        "id": "4_p0CYRjt1Yn",
        "colab": {
          "base_uri": "https://localhost:8080/"
        },
        "outputId": "387ce2f3-db72-4b35-f153-0bce8f2fd1f6"
      },
      "source": [
        "palindrome(\"Madam, I'm Adam\")"
      ],
      "execution_count": null,
      "outputs": [
        {
          "output_type": "execute_result",
          "data": {
            "text/plain": [
              "False"
            ]
          },
          "metadata": {
            "tags": []
          },
          "execution_count": 79
        }
      ]
    },
    {
      "cell_type": "code",
      "metadata": {
        "id": "gzsQgXs6t1Yo",
        "colab": {
          "base_uri": "https://localhost:8080/"
        },
        "outputId": "b9dc6d65-1f0c-4949-c333-5f99a6eef500"
      },
      "source": [
        "palindrome(\"Hello\")"
      ],
      "execution_count": null,
      "outputs": [
        {
          "output_type": "execute_result",
          "data": {
            "text/plain": [
              "False"
            ]
          },
          "metadata": {
            "tags": []
          },
          "execution_count": 86
        }
      ]
    },
    {
      "cell_type": "code",
      "metadata": {
        "id": "jFR_sFTrt1Yp"
      },
      "source": [
        ""
      ],
      "execution_count": null,
      "outputs": []
    }
  ]
}